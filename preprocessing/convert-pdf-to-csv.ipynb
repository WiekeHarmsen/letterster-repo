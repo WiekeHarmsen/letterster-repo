{
 "cells": [
  {
   "cell_type": "code",
   "execution_count": 8,
   "metadata": {},
   "outputs": [],
   "source": [
    "import pandas as pd\n",
    "import glob\n",
    "import os\n",
    "from datetime import datetime\n",
    "import numpy as np\n",
    "from PyPDF2 import PdfReader"
   ]
  },
  {
   "cell_type": "code",
   "execution_count": 23,
   "metadata": {},
   "outputs": [
    {
     "data": {
      "text/plain": [
       "['11-03-2024 11:23',\n",
       " 'https://app.lexipoort.nl/nl/#/products/letterster/students 1/2Letterster toetsresultaten',\n",
       " '4 oktober 2023, 09:58',\n",
       " 'Aantal hervattingen: 1',\n",
       " 'Verstreken tijd: 00:17:46',\n",
       " 'Woord Ingevuld antwoord Goed/fout',\n",
       " 'panda pandaa Fout',\n",
       " 'benieuwd deniewt Fout',\n",
       " 'strooi strooj Fout',\n",
       " 'moeilijk meojlek Fout',\n",
       " 'drinkflessen drinkvlesen Fout',\n",
       " 'gedaan gedaan Goed',\n",
       " 'pijl pel Fout',\n",
       " 'springt sprinkt Fout',\n",
       " 'trouw traow Fout',\n",
       " 'kraaien kraajen Fout',\n",
       " 'bessenvla desevlaa Fout',\n",
       " 'bravo praavoo Fout',\n",
       " 'puree puireej Fout',\n",
       " 'toch tog Fout',\n",
       " 'deur deur Goed',\n",
       " 'denkt denkt Goed',\n",
       " 'schrijven schven Fout',\n",
       " 'reuzen reusen Fout',\n",
       " 'armpje armpje Goed',\n",
       " 'fiets viets Fout',\n",
       " 'huis huis Goed',\n",
       " 'handdoek handeok Fout',\n",
       " 'voorrang vorang Fout',\n",
       " 'vliegt vliegt Goed',\n",
       " 'schuw schuiw Fout',\n",
       " 'slurf slurv Fout',\n",
       " 'augurk aowgurk Fout',\n",
       " 'jassen jase Fout',\n",
       " 'spaarpot spaarpot Goed',\n",
       " 'zout saut Fout',\n",
       " 'strand strant Fout',\n",
       " 'koopt koopt Goed',\n",
       " 'autobank outoowdank Fout',\n",
       " 'pleintje plantje Fout',\n",
       " 'prei prij Fout',\n",
       " 'weg weg Goed',\n",
       " 'veel veel Goed',\n",
       " 'schoolreis schoorijs Fout',\n",
       " 'zich sigt Fout',\n",
       " 'sneeuwpopje sniwpopje Fout',\n",
       " 'dak dak Goed',\n",
       " 'graven graaven Fout',\n",
       " 'scheren schiren Fout',\n",
       " 'geluid geluit Fout',\n",
       " 'muurtje muertje Fout',\n",
       " 'verkleuren verkluuren Fout',\n",
       " 'jarig jaareg Fout',\n",
       " 'eerlijk irluk Fout',\n",
       " 'lucht lugt Fout',\n",
       " 'storen stooren Fout',\n",
       " 'pauze paose Fout',\n",
       " 'middel midel Fout',\n",
       " 'dacht dagt Fout',\n",
       " 'Resulterende spellingsregels',\n",
       " 'Volgorde Spellingsregelnummer Titel',\n",
       " '1 2 woorden met b en d',\n",
       " '2 12 woorden met eer, oor en eur',\n",
       " '3 14 woorden met eel, ool, uil en ijl',\n",
       " '4 17 woorden met cht en gt',\n",
       " '5 21 woorden met ch en g',\n",
       " '6 22 woorden met een stomme klank in het midden of achteraan',\n",
       " '7 24 woorden met een lange klank aan het eind van een klankgroep',\n",
       " '8 25 woorden met eren, euren en oren',\n",
       " '9 29 woorden met een korte klank aan het eind van een klankgroep',\n",
       " '10 31 woorden met de stomme klanken -ig en -lijk',\n",
       " '11 32 woorden met een s en z in het midden',\n",
       " '12 33 woorden met een f en v in het midden']"
      ]
     },
     "execution_count": 23,
     "metadata": {},
     "output_type": "execute_result"
    }
   ],
   "source": [
    "# Step 1: PDF files (output spelling tests letterster)\n",
    "# /vol/bigdata3/datasets3/dutch_child_audio/letterster/spelling/letterster_dictations/01_pdf\n",
    "\n",
    "pdf_dir = '/vol/bigdata3/datasets3/dutch_child_audio/letterster/spelling/letterster_dictations/01_pdf'\n",
    "pdf_file_list = glob.glob(os.path.join(pdf_dir, '*.pdf'))\n",
    "\n",
    "reader = PdfReader(pdf_file_list[0])\n",
    "page1 = reader.pages[0]\n",
    "txt_file_page1 = page1.extract_text().split('\\n')\n",
    "\n",
    "page2 = reader.pages[1]\n",
    "txt_file_page2 = page2.extract_text().split('\\n')[1:]\n",
    "txt_file_page2[0] = txt_file_page2[0].replace('https://app.lexipoort.nl/nl/#/products/letterster/students 2/2', '')\n",
    "\n",
    "txt_file_page1 + txt_file_page2\n"
   ]
  },
  {
   "cell_type": "markdown",
   "metadata": {},
   "source": []
  },
  {
   "cell_type": "code",
   "execution_count": 4,
   "metadata": {},
   "outputs": [],
   "source": [
    "# Step 2: Upload pdf to https://www.pdfforge.org/online/nl/extract-text and download as txt files\n",
    "# Upload these txt files to: /vol/bigdata3/datasets3/dutch_child_audio/letterster/spelling/letterster_dictations/02_txt\n",
    "\n",
    "txt_dir = '/vol/bigdata3/datasets3/dutch_child_audio/letterster/spelling/letterster_dictations/02_txt'\n",
    "txt_file_list = glob.glob(os.path.join(txt_dir, '*.txt'))"
   ]
  },
  {
   "cell_type": "code",
   "execution_count": 5,
   "metadata": {},
   "outputs": [],
   "source": [
    "# Create output directories\n",
    "dictation_dir = '/vol/bigdata3/datasets3/dutch_child_audio/letterster/spelling/letterster_dictations/03_dictations'\n",
    "error_cat_dir = '/vol/bigdata3/datasets3/dutch_child_audio/letterster/spelling/letterster_dictations/04_error_categories'\n",
    "\n",
    "if not os.path.isdir(dictation_dir):\n",
    "    os.makedirs(dictation_dir)\n",
    "\n",
    "if not os.path.isdir(error_cat_dir):\n",
    "    os.makedirs(error_cat_dir)"
   ]
  },
  {
   "cell_type": "code",
   "execution_count": 6,
   "metadata": {},
   "outputs": [
    {
     "name": "stdout",
     "output_type": "stream",
     "text": [
      "['11-03-2024 11:23', 'https://app.lexipoort.nl/nl/#/products/letterster/students 1/2', 'Letterster toetsresultaten', '4 oktober 2023, 09:58', 'Aantal hervattingen: 1', 'Verstreken tijd: 00:17:46', 'Woord Ingevuld antwoord Goed/fout', 'panda pandaa Fout', 'benieuwd deniewt Fout', 'strooi strooj Fout', 'moeilijk meojlek Fout', 'drinkflessen drinkvlesen Fout', 'gedaan gedaan Goed', 'pijl pel Fout', 'springt sprinkt Fout', 'trouw traow Fout', 'kraaien kraajen Fout', 'bessenvla desevlaa Fout', 'bravo praavoo Fout', 'puree puireej Fout', 'toch tog Fout', 'deur deur Goed', 'denkt denkt Goed', 'schrijven schven Fout', 'reuzen reusen Fout', 'armpje armpje Goed', 'fiets viets Fout', 'huis huis Goed', 'handdoek handeok Fout', 'voorrang vorang Fout', 'vliegt vliegt Goed', 'schuw schuiw Fout', 'slurf slurv Fout', 'augurk aowgurk Fout', 'jassen jase Fout', 'spaarpot spaarpot Goed', 'zout saut Fout', 'strand strant Fout', 'koopt koopt Goed', 'autobank outoowdank Fout', 'pleintje plantje Fout', 'prei prij Fout', 'weg weg Goed', 'veel veel Goed', '\\x0c11-03-2024 11:23', 'https://app.lexipoort.nl/nl/#/products/letterster/students 2/2', 'schoolreis schoorijs Fout', 'zich sigt Fout', 'sneeuwpopje sniwpopje Fout', 'dak dak Goed', 'graven graaven Fout', 'scheren schiren Fout', 'geluid geluit Fout', 'muurtje muertje Fout', 'verkleuren verkluuren Fout', 'jarig jaareg Fout', 'eerlijk irluk Fout', 'lucht lugt Fout', 'storen stooren Fout', 'pauze paose Fout', 'middel midel Fout', 'dacht dagt Fout', 'Resulterende spellingsregels', 'Volgorde Spellingsregelnummer Titel', '1 2 woorden met b en d', '2 12 woorden met eer, oor en eur', '3 14 woorden met eel, ool, uil en ijl', '4 17 woorden met cht en gt', '5 21 woorden met ch en g', '6 22 woorden met een stomme klank in het midden of achteraan', '7 24 woorden met een lange klank aan het eind van een klankgroep', '8 25 woorden met eren, euren en oren', '9 29 woorden met een korte klank aan het eind van een klankgroep', '10 31 woorden met de stomme klanken -ig en -lijk', '11 32 woorden met een s en z in het midden', '12 33 woorden met een f en v in het midden', '']\n"
     ]
    }
   ],
   "source": [
    "# Define default functions\n",
    "\n",
    "def parseDictationString(item):\n",
    "    target = item.split(' ', 1)[0]\n",
    "    correct = item.split(' ', -1)[-1]\n",
    "    realized = item[len(target):len(item)-len(correct)]\n",
    "    return [target, realized, correct]\n",
    "\n",
    "def parseErrorCategoryString(item):\n",
    "    error_cat_rank = item.split(' ')[0]\n",
    "    error_cat_nr = item.split(' ')[1]\n",
    "    error_cat_description = item.split(' ', 2)[-1]\n",
    "    return [error_cat_rank, error_cat_nr, error_cat_description]\n",
    "\n",
    "def parseTxt(data, author, testID):\n",
    "    filename = author + '_' + testID + '.csv'\n",
    "\n",
    "    # Meta data\n",
    "    date_exported = data[0]\n",
    "    link = data[1]\n",
    "    date_administration = data[3].replace(' ', '-')\n",
    "    attempts = data[3]\n",
    "    duration = data[4]\n",
    "\n",
    "    filename = author + '_' + testID + '_' + date_administration + '.tsv'\n",
    "\n",
    "    # Dictation data\n",
    "    page1 = [parseDictationString(data[idx]) for idx in np.arange(7, 44, 1)]\n",
    "    page2 = [parseDictationString(data[idx]) for idx in np.arange(46, 62, 1)]\n",
    "    dictationDF = pd.DataFrame(page1 + page2, columns = ['target', 'realized', 'correct'])\n",
    "    dictationDF.to_csv(os.path.join(dictation_dir, filename), sep= '\\t')\n",
    "\n",
    "    # Error categories\n",
    "    errorCategoryDF = pd.DataFrame([parseErrorCategoryString(data[idx]) for idx in np.arange(64, 64+12, 1)], columns = ['error_rank', 'error_cat_nr', 'error_cat_description'])\n",
    "    errorCategoryDF.to_csv(os.path.join(error_cat_dir, filename), sep= '\\t')\n",
    "\n",
    "# Read one txt file\n",
    "txt_file = txt_file_list[0]\n",
    "with open(txt_file, 'r') as f:\n",
    "    data = [x[:-1] for x in f.readlines()]\n",
    "\n",
    "print(data)\n",
    "\n",
    "# Parse the txt file\n",
    "author = 'test'\n",
    "testID = 'test'\n",
    "parseTxt(data, author, testID)"
   ]
  },
  {
   "cell_type": "code",
   "execution_count": 80,
   "metadata": {},
   "outputs": [
    {
     "ename": "ValueError",
     "evalue": "time data '11/03/2024 11:23' does not match format '%d/%m/%y %H:%M'",
     "output_type": "error",
     "traceback": [
      "\u001b[0;31m---------------------------------------------------------------------------\u001b[0m",
      "\u001b[0;31mValueError\u001b[0m                                Traceback (most recent call last)",
      "Cell \u001b[0;32mIn[80], line 14\u001b[0m\n\u001b[1;32m     10\u001b[0m     \u001b[38;5;28mprint\u001b[39m(datetime_object)  \u001b[38;5;66;03m# printed in default format\u001b[39;00m\n\u001b[1;32m     12\u001b[0m     \u001b[38;5;28;01mreturn\u001b[39;00m datetime_object\n\u001b[0;32m---> 14\u001b[0m \u001b[43mdateString2dateTime\u001b[49m\u001b[43m(\u001b[49m\u001b[43mdata\u001b[49m\u001b[43m[\u001b[49m\u001b[38;5;241;43m0\u001b[39;49m\u001b[43m]\u001b[49m\u001b[43m)\u001b[49m\n",
      "Cell \u001b[0;32mIn[80], line 7\u001b[0m, in \u001b[0;36mdateString2dateTime\u001b[0;34m(datetime_str)\u001b[0m\n\u001b[1;32m      1\u001b[0m \u001b[38;5;28;01mdef\u001b[39;00m \u001b[38;5;21mdateString2dateTime\u001b[39m(datetime_str):\n\u001b[1;32m      2\u001b[0m \n\u001b[1;32m      3\u001b[0m     \u001b[38;5;66;03m# datetime_str = '09/19/22 13:55:26'\u001b[39;00m\n\u001b[1;32m      5\u001b[0m     datetime_str \u001b[38;5;241m=\u001b[39m datetime_str\u001b[38;5;241m.\u001b[39mreplace(\u001b[38;5;124m'\u001b[39m\u001b[38;5;124m-\u001b[39m\u001b[38;5;124m'\u001b[39m, \u001b[38;5;124m'\u001b[39m\u001b[38;5;124m/\u001b[39m\u001b[38;5;124m'\u001b[39m)\n\u001b[0;32m----> 7\u001b[0m     datetime_object \u001b[38;5;241m=\u001b[39m \u001b[43mdatetime\u001b[49m\u001b[38;5;241;43m.\u001b[39;49m\u001b[43mstrptime\u001b[49m\u001b[43m(\u001b[49m\u001b[43mdatetime_str\u001b[49m\u001b[43m,\u001b[49m\u001b[43m \u001b[49m\u001b[38;5;124;43m'\u001b[39;49m\u001b[38;5;132;43;01m%d\u001b[39;49;00m\u001b[38;5;124;43m/\u001b[39;49m\u001b[38;5;124;43m%\u001b[39;49m\u001b[38;5;124;43mm/\u001b[39;49m\u001b[38;5;124;43m%\u001b[39;49m\u001b[38;5;124;43my \u001b[39;49m\u001b[38;5;124;43m%\u001b[39;49m\u001b[38;5;124;43mH:\u001b[39;49m\u001b[38;5;124;43m%\u001b[39;49m\u001b[38;5;124;43mM\u001b[39;49m\u001b[38;5;124;43m'\u001b[39;49m\u001b[43m)\u001b[49m\n\u001b[1;32m      9\u001b[0m     \u001b[38;5;28mprint\u001b[39m(\u001b[38;5;28mtype\u001b[39m(datetime_object))\n\u001b[1;32m     10\u001b[0m     \u001b[38;5;28mprint\u001b[39m(datetime_object)  \u001b[38;5;66;03m# printed in default format\u001b[39;00m\n",
      "File \u001b[0;32m/usr/lib/python3.10/_strptime.py:568\u001b[0m, in \u001b[0;36m_strptime_datetime\u001b[0;34m(cls, data_string, format)\u001b[0m\n\u001b[1;32m    565\u001b[0m \u001b[38;5;28;01mdef\u001b[39;00m \u001b[38;5;21m_strptime_datetime\u001b[39m(\u001b[38;5;28mcls\u001b[39m, data_string, \u001b[38;5;28mformat\u001b[39m\u001b[38;5;241m=\u001b[39m\u001b[38;5;124m\"\u001b[39m\u001b[38;5;132;01m%a\u001b[39;00m\u001b[38;5;124m \u001b[39m\u001b[38;5;124m%\u001b[39m\u001b[38;5;124mb \u001b[39m\u001b[38;5;132;01m%d\u001b[39;00m\u001b[38;5;124m \u001b[39m\u001b[38;5;124m%\u001b[39m\u001b[38;5;124mH:\u001b[39m\u001b[38;5;124m%\u001b[39m\u001b[38;5;124mM:\u001b[39m\u001b[38;5;124m%\u001b[39m\u001b[38;5;124mS \u001b[39m\u001b[38;5;124m%\u001b[39m\u001b[38;5;124mY\u001b[39m\u001b[38;5;124m\"\u001b[39m):\n\u001b[1;32m    566\u001b[0m \u001b[38;5;250m    \u001b[39m\u001b[38;5;124;03m\"\"\"Return a class cls instance based on the input string and the\u001b[39;00m\n\u001b[1;32m    567\u001b[0m \u001b[38;5;124;03m    format string.\"\"\"\u001b[39;00m\n\u001b[0;32m--> 568\u001b[0m     tt, fraction, gmtoff_fraction \u001b[38;5;241m=\u001b[39m \u001b[43m_strptime\u001b[49m\u001b[43m(\u001b[49m\u001b[43mdata_string\u001b[49m\u001b[43m,\u001b[49m\u001b[43m \u001b[49m\u001b[38;5;28;43mformat\u001b[39;49m\u001b[43m)\u001b[49m\n\u001b[1;32m    569\u001b[0m     tzname, gmtoff \u001b[38;5;241m=\u001b[39m tt[\u001b[38;5;241m-\u001b[39m\u001b[38;5;241m2\u001b[39m:]\n\u001b[1;32m    570\u001b[0m     args \u001b[38;5;241m=\u001b[39m tt[:\u001b[38;5;241m6\u001b[39m] \u001b[38;5;241m+\u001b[39m (fraction,)\n",
      "File \u001b[0;32m/usr/lib/python3.10/_strptime.py:349\u001b[0m, in \u001b[0;36m_strptime\u001b[0;34m(data_string, format)\u001b[0m\n\u001b[1;32m    347\u001b[0m found \u001b[38;5;241m=\u001b[39m format_regex\u001b[38;5;241m.\u001b[39mmatch(data_string)\n\u001b[1;32m    348\u001b[0m \u001b[38;5;28;01mif\u001b[39;00m \u001b[38;5;129;01mnot\u001b[39;00m found:\n\u001b[0;32m--> 349\u001b[0m     \u001b[38;5;28;01mraise\u001b[39;00m \u001b[38;5;167;01mValueError\u001b[39;00m(\u001b[38;5;124m\"\u001b[39m\u001b[38;5;124mtime data \u001b[39m\u001b[38;5;132;01m%r\u001b[39;00m\u001b[38;5;124m does not match format \u001b[39m\u001b[38;5;132;01m%r\u001b[39;00m\u001b[38;5;124m\"\u001b[39m \u001b[38;5;241m%\u001b[39m\n\u001b[1;32m    350\u001b[0m                      (data_string, \u001b[38;5;28mformat\u001b[39m))\n\u001b[1;32m    351\u001b[0m \u001b[38;5;28;01mif\u001b[39;00m \u001b[38;5;28mlen\u001b[39m(data_string) \u001b[38;5;241m!=\u001b[39m found\u001b[38;5;241m.\u001b[39mend():\n\u001b[1;32m    352\u001b[0m     \u001b[38;5;28;01mraise\u001b[39;00m \u001b[38;5;167;01mValueError\u001b[39;00m(\u001b[38;5;124m\"\u001b[39m\u001b[38;5;124munconverted data remains: \u001b[39m\u001b[38;5;132;01m%s\u001b[39;00m\u001b[38;5;124m\"\u001b[39m \u001b[38;5;241m%\u001b[39m\n\u001b[1;32m    353\u001b[0m                       data_string[found\u001b[38;5;241m.\u001b[39mend():])\n",
      "\u001b[0;31mValueError\u001b[0m: time data '11/03/2024 11:23' does not match format '%d/%m/%y %H:%M'"
     ]
    }
   ],
   "source": [
    "def dateString2dateTime(datetime_str):\n",
    "\n",
    "    # datetime_str = '09/19/22 13:55:26'\n",
    "\n",
    "    datetime_str = datetime_str.replace('-', '/')\n",
    "\n",
    "    datetime_object = datetime.strptime(datetime_str, '%d/%m/%y %H:%M')\n",
    "\n",
    "    print(type(datetime_object))\n",
    "    print(datetime_object)  # printed in default format\n",
    "\n",
    "    return datetime_object\n",
    "\n",
    "dateString2dateTime(data[0])"
   ]
  },
  {
   "cell_type": "code",
   "execution_count": 32,
   "metadata": {},
   "outputs": [
    {
     "ename": "ValueError",
     "evalue": "time data '09/19/22 13:55:26' does not match format '%d/%m/%y %H:%M'",
     "output_type": "error",
     "traceback": [
      "\u001b[0;31m---------------------------------------------------------------------------\u001b[0m",
      "\u001b[0;31mValueError\u001b[0m                                Traceback (most recent call last)",
      "Cell \u001b[0;32mIn[32], line 1\u001b[0m\n\u001b[0;32m----> 1\u001b[0m \u001b[43mdateString2dateTime\u001b[49m\u001b[43m(\u001b[49m\u001b[38;5;124;43m'\u001b[39;49m\u001b[38;5;124;43m09-19-22 13:55:26\u001b[39;49m\u001b[38;5;124;43m'\u001b[39;49m\u001b[43m)\u001b[49m\n",
      "Cell \u001b[0;32mIn[31], line 10\u001b[0m, in \u001b[0;36mdateString2dateTime\u001b[0;34m(datetime_str)\u001b[0m\n\u001b[1;32m      4\u001b[0m \u001b[38;5;28;01mdef\u001b[39;00m \u001b[38;5;21mdateString2dateTime\u001b[39m(datetime_str):\n\u001b[1;32m      5\u001b[0m \n\u001b[1;32m      6\u001b[0m     \u001b[38;5;66;03m# datetime_str = '09/19/22 13:55:26'\u001b[39;00m\n\u001b[1;32m      8\u001b[0m     datetime_str \u001b[38;5;241m=\u001b[39m datetime_str\u001b[38;5;241m.\u001b[39mreplace(\u001b[38;5;124m'\u001b[39m\u001b[38;5;124m-\u001b[39m\u001b[38;5;124m'\u001b[39m, \u001b[38;5;124m'\u001b[39m\u001b[38;5;124m/\u001b[39m\u001b[38;5;124m'\u001b[39m)\n\u001b[0;32m---> 10\u001b[0m     datetime_object \u001b[38;5;241m=\u001b[39m \u001b[43mdatetime\u001b[49m\u001b[38;5;241;43m.\u001b[39;49m\u001b[43mstrptime\u001b[49m\u001b[43m(\u001b[49m\u001b[43mdatetime_str\u001b[49m\u001b[43m,\u001b[49m\u001b[43m \u001b[49m\u001b[38;5;124;43m'\u001b[39;49m\u001b[38;5;132;43;01m%d\u001b[39;49;00m\u001b[38;5;124;43m/\u001b[39;49m\u001b[38;5;124;43m%\u001b[39;49m\u001b[38;5;124;43mm/\u001b[39;49m\u001b[38;5;124;43m%\u001b[39;49m\u001b[38;5;124;43my \u001b[39;49m\u001b[38;5;124;43m%\u001b[39;49m\u001b[38;5;124;43mH:\u001b[39;49m\u001b[38;5;124;43m%\u001b[39;49m\u001b[38;5;124;43mM\u001b[39;49m\u001b[38;5;124;43m'\u001b[39;49m\u001b[43m)\u001b[49m\n\u001b[1;32m     12\u001b[0m     \u001b[38;5;28mprint\u001b[39m(\u001b[38;5;28mtype\u001b[39m(datetime_object))\n\u001b[1;32m     13\u001b[0m     \u001b[38;5;28mprint\u001b[39m(datetime_object)  \u001b[38;5;66;03m# printed in default format\u001b[39;00m\n",
      "File \u001b[0;32m/usr/lib/python3.10/_strptime.py:568\u001b[0m, in \u001b[0;36m_strptime_datetime\u001b[0;34m(cls, data_string, format)\u001b[0m\n\u001b[1;32m    565\u001b[0m \u001b[38;5;28;01mdef\u001b[39;00m \u001b[38;5;21m_strptime_datetime\u001b[39m(\u001b[38;5;28mcls\u001b[39m, data_string, \u001b[38;5;28mformat\u001b[39m\u001b[38;5;241m=\u001b[39m\u001b[38;5;124m\"\u001b[39m\u001b[38;5;132;01m%a\u001b[39;00m\u001b[38;5;124m \u001b[39m\u001b[38;5;124m%\u001b[39m\u001b[38;5;124mb \u001b[39m\u001b[38;5;132;01m%d\u001b[39;00m\u001b[38;5;124m \u001b[39m\u001b[38;5;124m%\u001b[39m\u001b[38;5;124mH:\u001b[39m\u001b[38;5;124m%\u001b[39m\u001b[38;5;124mM:\u001b[39m\u001b[38;5;124m%\u001b[39m\u001b[38;5;124mS \u001b[39m\u001b[38;5;124m%\u001b[39m\u001b[38;5;124mY\u001b[39m\u001b[38;5;124m\"\u001b[39m):\n\u001b[1;32m    566\u001b[0m \u001b[38;5;250m    \u001b[39m\u001b[38;5;124;03m\"\"\"Return a class cls instance based on the input string and the\u001b[39;00m\n\u001b[1;32m    567\u001b[0m \u001b[38;5;124;03m    format string.\"\"\"\u001b[39;00m\n\u001b[0;32m--> 568\u001b[0m     tt, fraction, gmtoff_fraction \u001b[38;5;241m=\u001b[39m \u001b[43m_strptime\u001b[49m\u001b[43m(\u001b[49m\u001b[43mdata_string\u001b[49m\u001b[43m,\u001b[49m\u001b[43m \u001b[49m\u001b[38;5;28;43mformat\u001b[39;49m\u001b[43m)\u001b[49m\n\u001b[1;32m    569\u001b[0m     tzname, gmtoff \u001b[38;5;241m=\u001b[39m tt[\u001b[38;5;241m-\u001b[39m\u001b[38;5;241m2\u001b[39m:]\n\u001b[1;32m    570\u001b[0m     args \u001b[38;5;241m=\u001b[39m tt[:\u001b[38;5;241m6\u001b[39m] \u001b[38;5;241m+\u001b[39m (fraction,)\n",
      "File \u001b[0;32m/usr/lib/python3.10/_strptime.py:349\u001b[0m, in \u001b[0;36m_strptime\u001b[0;34m(data_string, format)\u001b[0m\n\u001b[1;32m    347\u001b[0m found \u001b[38;5;241m=\u001b[39m format_regex\u001b[38;5;241m.\u001b[39mmatch(data_string)\n\u001b[1;32m    348\u001b[0m \u001b[38;5;28;01mif\u001b[39;00m \u001b[38;5;129;01mnot\u001b[39;00m found:\n\u001b[0;32m--> 349\u001b[0m     \u001b[38;5;28;01mraise\u001b[39;00m \u001b[38;5;167;01mValueError\u001b[39;00m(\u001b[38;5;124m\"\u001b[39m\u001b[38;5;124mtime data \u001b[39m\u001b[38;5;132;01m%r\u001b[39;00m\u001b[38;5;124m does not match format \u001b[39m\u001b[38;5;132;01m%r\u001b[39;00m\u001b[38;5;124m\"\u001b[39m \u001b[38;5;241m%\u001b[39m\n\u001b[1;32m    350\u001b[0m                      (data_string, \u001b[38;5;28mformat\u001b[39m))\n\u001b[1;32m    351\u001b[0m \u001b[38;5;28;01mif\u001b[39;00m \u001b[38;5;28mlen\u001b[39m(data_string) \u001b[38;5;241m!=\u001b[39m found\u001b[38;5;241m.\u001b[39mend():\n\u001b[1;32m    352\u001b[0m     \u001b[38;5;28;01mraise\u001b[39;00m \u001b[38;5;167;01mValueError\u001b[39;00m(\u001b[38;5;124m\"\u001b[39m\u001b[38;5;124munconverted data remains: \u001b[39m\u001b[38;5;132;01m%s\u001b[39;00m\u001b[38;5;124m\"\u001b[39m \u001b[38;5;241m%\u001b[39m\n\u001b[1;32m    353\u001b[0m                       data_string[found\u001b[38;5;241m.\u001b[39mend():])\n",
      "\u001b[0;31mValueError\u001b[0m: time data '09/19/22 13:55:26' does not match format '%d/%m/%y %H:%M'"
     ]
    }
   ],
   "source": [
    "dateString2dateTime('09-19-22 13:55:26')"
   ]
  },
  {
   "cell_type": "code",
   "execution_count": null,
   "metadata": {},
   "outputs": [],
   "source": []
  }
 ],
 "metadata": {
  "kernelspec": {
   "display_name": "virenv-wav2vec2",
   "language": "python",
   "name": "python3"
  },
  "language_info": {
   "codemirror_mode": {
    "name": "ipython",
    "version": 3
   },
   "file_extension": ".py",
   "mimetype": "text/x-python",
   "name": "python",
   "nbconvert_exporter": "python",
   "pygments_lexer": "ipython3",
   "version": "3.8.10"
  }
 },
 "nbformat": 4,
 "nbformat_minor": 2
}
