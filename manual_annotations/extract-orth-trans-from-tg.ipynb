{
 "cells": [
  {
   "cell_type": "code",
   "execution_count": 49,
   "metadata": {},
   "outputs": [],
   "source": [
    "import pandas as pd\n",
    "import glob\n",
    "import os\n",
    "import json\n",
    "import librosa\n",
    "import textgrids as tg"
   ]
  },
  {
   "cell_type": "code",
   "execution_count": 51,
   "metadata": {},
   "outputs": [],
   "source": [
    "basePath = '/vol/tensusers2/wharmsen/letterster-corpus/round1/dmt-reading/03_transcriptions/02_tg_orth_trans/*'\n",
    "\n",
    "annotatorPaths = [x for x in glob.glob(basePath) if x[-6:] != 'script']\n",
    "\n",
    "for annotatorPath in annotatorPaths:\n",
    "\n",
    "    annotator = annotatorPath.split('/')[-1]\n",
    "\n",
    "    textgridList = glob.glob(os.path.join(annotatorPath, '*_checked.TextGrid'))\n",
    "\n",
    "    outputList = []\n",
    "    for tgFile in textgridList:\n",
    "\n",
    "        filename = os.path.basename(tgFile).replace('_checked.TextGrid', '')\n",
    "        orthTrans = tg.TextGrid(tgFile)['prompts'][0].text\n",
    "\n",
    "        outputList.append(filename + ',' + orthTrans)\n",
    "\n",
    "    outputFile = os.path.join(basePath.replace('*', ''), 'orthTrans_' + annotator + '.csv')\n",
    "    with open(outputFile, 'w') as f:\n",
    "        f.write('\\n'.join(outputList))\n",
    "    \n"
   ]
  },
  {
   "cell_type": "code",
   "execution_count": 25,
   "metadata": {},
   "outputs": [
    {
     "ename": "AttributeError",
     "evalue": "'str' object has no attribute 'write'",
     "output_type": "error",
     "traceback": [
      "\u001b[0;31m---------------------------------------------------------------------------\u001b[0m",
      "\u001b[0;31mAttributeError\u001b[0m                            Traceback (most recent call last)",
      "Cell \u001b[0;32mIn[25], line 1\u001b[0m\n\u001b[0;32m----> 1\u001b[0m \u001b[43mtgFile\u001b[49m\u001b[38;5;241;43m.\u001b[39;49m\u001b[43mwrite\u001b[49m(os\u001b[38;5;241m.\u001b[39mpath\u001b[38;5;241m.\u001b[39mjoin(output_tg_dir, os\u001b[38;5;241m.\u001b[39mpath\u001b[38;5;241m.\u001b[39mbasename(audioFile)\u001b[38;5;241m.\u001b[39mreplace(\u001b[38;5;124m'\u001b[39m\u001b[38;5;124m.wav\u001b[39m\u001b[38;5;124m'\u001b[39m, \u001b[38;5;124m'\u001b[39m\u001b[38;5;124m.TextGrid\u001b[39m\u001b[38;5;124m'\u001b[39m)))\n",
      "\u001b[0;31mAttributeError\u001b[0m: 'str' object has no attribute 'write'"
     ]
    }
   ],
   "source": [
    "tgFile.write(os.path.join(output_tg_dir, os.path.basename(audioFile).replace('.wav', '.TextGrid')))"
   ]
  },
  {
   "cell_type": "code",
   "execution_count": null,
   "metadata": {},
   "outputs": [],
   "source": []
  }
 ],
 "metadata": {
  "kernelspec": {
   "display_name": "virenv-wav2vec2",
   "language": "python",
   "name": "python3"
  },
  "language_info": {
   "codemirror_mode": {
    "name": "ipython",
    "version": 3
   },
   "file_extension": ".py",
   "mimetype": "text/x-python",
   "name": "python",
   "nbconvert_exporter": "python",
   "pygments_lexer": "ipython3",
   "version": "3.10.12"
  }
 },
 "nbformat": 4,
 "nbformat_minor": 2
}
