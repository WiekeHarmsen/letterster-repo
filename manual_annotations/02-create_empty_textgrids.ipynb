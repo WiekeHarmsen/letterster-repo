{
 "cells": [
  {
   "cell_type": "code",
   "execution_count": 1,
   "metadata": {},
   "outputs": [],
   "source": [
    "import pandas as pd\n",
    "import glob\n",
    "import os\n",
    "import json\n",
    "import librosa\n",
    "import textgrids as tg"
   ]
  },
  {
   "cell_type": "code",
   "execution_count": 3,
   "metadata": {},
   "outputs": [
    {
     "data": {
      "text/plain": [
       "{'kaart1A': 'ijs boom dun rek riet zout paal kuil net puur bak lijn min jeuk mouw boor veen koe wok raam den baas koel dom nek meel boot zee kier zoen pin dol gaas men oom zeep duif raar piep rein doos luik ram haak rug eer kuur gas peul rijk zuur teug kip uil zool riem bot pan leeg rijp hal wijs boog vee rouw hik taal hees dak saus jouw heus rot oen tas duik laan tol doof taak fit sein noot lies kat lui reus neer gek raak bijt geel rook lol geit zes por buit pees kei vuur hap dik vier kous vaas pup roes gaap ree mat bal zoon lauw os gaaf biet maag bes pier deun heet bouw voet beer hol bar uk hen roof wees pas dij lief wal veer ton ruig nier zaal boeg lek vies lap zeer kaal bui kies beek vol',\n",
       " 'kaart1B': 'kier zee nek baas meel dom zoen boot den koel biet gaaf bal zoon pier lauw bes maag os mat rook bijt geel kei por geit zes lol buit pees vier hap kous roes pup vaas dik ree vuur gaap boog wijs rouw taal hees hal vee hik saus dak rug haak luik peul rijk gas eer doos ram kuur zeep raar duif men dol piep oom rein gaas pin wok lijn mouw raam jeuk min koe bak veen boor heus laan oen tas rot jouw doof taak duik tol kies boeg lap vol zeer bui lek vies kaal beek hen roof deun beer voet bar hol bouw uk heet reus kat lui gek lies neer sein fit raak nootwal nier wees ton zaal pas veer dij lief ruig zout net dun rek ijs riet kuil boom paal puur teug kip zool uil riem leeg rijp zuur bot pan',\n",
       " 'kaart2A': 'klaar wens griep stomp langs draf klont darm sneu stroop krijt graag strikt film schraal snuit fort triest krans inkt slak naast grind slurf troep blij pols mast glad ernst vlot stunt arm brief spreeuw brul troost plus mist balk dweil rond klei merk stop druk sproet haast speels dwerg zacht smoes bont zwaai grijns korst flauw taart spons blik trots kluis minst pomp vacht punt zwak broek frons bloei gracht koorts wand plooi licht kers krent proef ster kruid pracht twaalf sla wild kaft paard speer winst blok stier snee herfst prins held plat verf braam sneeuw sterk bord plant groet sluw laatst plein hart stipt koord schurk trui strip kluts draai schaats troon hulp vreemd gram toets knap graad snoer blond gast vloer glimp stank beeld straf tint krab fruit spoor bocht zwart streng baars nieuws proost blaar grof melk stuurs mals kerk schroef bleek graan staart zelfs',\n",
       " 'kaart2B': 'blok speer twaalf winst kaft paard sla stier pracht wild schroef grof melk staart zelfs graan kerk stuurs mals bleek held sneeuw braam sterk plat herfst prins verf snee bord kers gracht ster koorts plooi kruid licht krent wand proef  schaats vreemd gram kluts troon strip toets draai hulp knap haast merk dweil rond speels druk klei stop dwerg sproet blond vloer stank glimp straf tint gast snoer beeld graad langs griep sneu darm stroop wens klont stomp klaar draf zwart proost fruit streng baars krab spoor nieuws blaar bocht krijt schraal triest graag strikt krans inkt fort fort  film snuit troost brul spreeuw plus arm brief mist balk stunt vlot blij mast grind slak troep ernst pols naast glad slurf hart sluw plant koord plein stipt groet schurk trui laatst frons kluis pomp zwak trots vacht broek punt bloei minst zwaai spons blik taart zacht smoes bont grijns flauw korst',\n",
       " 'kaart3A': 'opa rekening stralend fruitteelt morgenochtend aanzienlijk lichaamsdeel complex lawaaierig uiterst stiefzus kijkcijfers minimaal tuinhek sterrenhemel briljant koker hengel vervolgens opzettelijk nietmachine ondanks wijsvinger natuurtalent attentie racefiets mineraal soepel botsing beroemd liniaal alfabetisch export honderd populair verkeerd rietje hartelijk busmaatschappij neushoorn herhaling winkelwagen kritisch staafdiagram rijstveld autorit prima stedelijk duwen helling aardgas veranderen zindelijk kanaal vogelspin bokser temperatuur compleet klimaat beloning muzikant oorlog hobby composthoop parkeerterrein buiten schuldig werkplek schoolvakantie eenzijdig boottocht wegens politieman hoeveelheid bepaald ijsklontje rookpluim miljoenenstad rijmwoord voorwerpen bureau zojuist perziken slaapkamerdeur kruispunt rommel neutraal onweerswolk kladpapier voedingsstoffen proeven reddingswerker instapkaart reisgids kaarsrecht aardappelplant tweeling voetbal binnenband absoluut groente behalve netvlies pleister gevangene inzameling gebed mobiel theater verhuisdoos monster graanschuur mentaliteit scheepvaart kruising vervelend gemeentehuis kennis superster plotseling regenwoud bergbeklimmer ketchup mompelen visboer gerinkel middagdutje pizza leiding eetzaal spoedig wielrennen middel  zenuwachtig verwaand carnaval afwisseling toegangsprijs kerstmarkt grafiek kanshebber clubhuis buurtbewoners kwartier bestaan ieder voorlopig centimeter duizendpoot verdrag',\n",
       " 'kaart3B': 'neushoorn rietje verkeerd alfabetisch export liniaal hartelijk busmaatschappij populair honderd complex stralend rekening morgenochtend lawaaierig uiterst fruitteelt aanzienlijk lichaamsdeel opa kanaal beloning zindelijk veranderen aardgas compleet vogelspin bokser temperatuur klimaat natuurtalent botsing nietmachine mineraal racefiets attentie soepel ondanks wijsvinger beroemd kaarsrecht proeven reisgids absoluut instapkaart tweeling voetbal binnenband aardappelplant reddingswerker prima stedelijk winkelwagen rijstveld herhaling kritisch autorit helling staafdiagram duwen onweerswolk neutraal slaapkamerdeur rommel perziken voedingsstoffen kladpapier kruispunt bureau zojuist buurtbewoners duizendpoot clubhuis verdrag kwartier centimeter ieder voorlopig kanshebber bestaan composthoop eenzijdig muzikant werkplek schuldig parkeerterrein oorlog schoolvakantie buiten hobby mentaliteit graanschuur kennis plotseling superster kruising vervelend scheepvaart monster gemeentehuis netvlies gevangene verhuisdoos inzameling pleister groente mobiel behalve theater gebed verwaand spoedig kerstmarkt afwisseling wielrennen grafiek toegangsprijs middel carnaval zenuwachtig hoeveelheid politieman boottocht rookpluim bepaald wegens rijmwoord miljoenenstad voorwerpen ijsklontje mompelen ketchup bergbeklimmer visboer gerinkel eetzaal regenwoud pizza leiding middagdutje koker opzettelijk briljant sterrenhemel tuinhek vervolgens minimaal stiefzus kijkcijfers hengel'}"
      ]
     },
     "execution_count": 3,
     "metadata": {},
     "output_type": "execute_result"
    }
   ],
   "source": [
    "# Read prompts\n",
    "promptDF = pd.read_csv('/vol/tensusers2/wharmsen/letterster-corpus/00_prompts/cito_dmt_leeskaarten.tsv', sep='\\t', index_col=0, header=None)\n",
    "promptDict = promptDF.to_dict()[1]\n",
    "promptDict"
   ]
  },
  {
   "cell_type": "code",
   "execution_count": 39,
   "metadata": {},
   "outputs": [],
   "source": [
    "filelist = glob.glob('/vol/tensusers2/wharmsen/letterster-corpus/01_audio_after_trimming/*.wav')\n",
    "output_tg_dir = '/vol/tensusers2/wharmsen/letterster-corpus/03_prompt_textgrids'\n",
    "\n",
    "for audioFile in filelist:\n",
    "    tgFile = tg.TextGrid()\n",
    "    tgFile.xmin = 0\n",
    "    y, sr = librosa.load(path=audioFile)\n",
    "    dur = librosa.get_duration(y=y) # duration of audio file\n",
    "    tgFile.xmax = dur\n",
    "\n",
    "    # Get task and corresponding prompt\n",
    "    taskID = os.path.basename(audioFile).split('_')[1]\n",
    "    prompt = promptDict[taskID]\n",
    "\n",
    "    tgFile['prompts'] = [tg.Interval(prompt, 0, dur)]\n",
    "\n",
    "    tgFile.write(os.path.join(output_tg_dir, os.path.basename(audioFile).replace('.wav', '.TextGrid')))\n"
   ]
  },
  {
   "cell_type": "code",
   "execution_count": null,
   "metadata": {},
   "outputs": [],
   "source": [
    "filelist = glob.glob('/vol/tensusers2/wharmsen/letterster-corpus/01_audio_after_trimming/*.wav')\n",
    "output_tg_dir = '/vol/tensusers2/wharmsen/letterster-corpus/02_empty_textgrids'\n",
    "\n",
    "for audioFile in filelist:\n",
    "    tgFile = tg.TextGrid()\n",
    "    tgFile.xmin = 0\n",
    "    y, sr = librosa.load(path=audioFile)\n",
    "    dur = librosa.get_duration(y=y) # duration of audio file\n",
    "    tgFile.xmax = dur\n",
    "\n",
    "    tgFile['prompts'] = [tg.Interval('', 0, dur)]\n",
    "\n",
    "    tgFile.write(os.path.join(output_tg_dir, os.path.basename(audioFile).replace('.wav', '.TextGrid')))"
   ]
  }
 ],
 "metadata": {
  "kernelspec": {
   "display_name": "virenv-wav2vec2",
   "language": "python",
   "name": "python3"
  },
  "language_info": {
   "codemirror_mode": {
    "name": "ipython",
    "version": 3
   },
   "file_extension": ".py",
   "mimetype": "text/x-python",
   "name": "python",
   "nbconvert_exporter": "python",
   "pygments_lexer": "ipython3",
   "version": "3.10.12"
  }
 },
 "nbformat": 4,
 "nbformat_minor": 2
}
