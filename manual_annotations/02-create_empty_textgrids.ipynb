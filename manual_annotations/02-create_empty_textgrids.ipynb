{
 "cells": [
  {
   "cell_type": "code",
   "execution_count": 1,
   "metadata": {},
   "outputs": [],
   "source": [
    "import pandas as pd\n",
    "import glob\n",
    "import os\n",
    "import json\n",
    "import librosa\n",
    "import textgrids as tg"
   ]
  },
  {
   "cell_type": "code",
   "execution_count": null,
   "metadata": {},
   "outputs": [],
   "source": [
    "annotator1 = \n",
    "annotator2 = "
   ]
  },
  {
   "cell_type": "code",
   "execution_count": 10,
   "metadata": {},
   "outputs": [],
   "source": [
    "filelist = glob.glob('/vol/tensusers2/wharmsen/letterster-corpus/01_audio_after_trimming/*.wav')\n",
    "output_tg_dir = '/vol/tensusers2/wharmsen/letterster-corpus/02_empty_textgrids'\n",
    "\n",
    "for audioFile in filelist:\n",
    "    tgFile = tg.TextGrid()\n",
    "    tgFile.xmin = 0\n",
    "    y, sr = librosa.load(path=audioFile)\n",
    "    dur = librosa.get_duration(y=y) # duration of audio file\n",
    "    tgFile.xmax = dur\n",
    "\n",
    "    tgFile['prompts'] = [tg.Interval('', 0, dur)]\n",
    "\n",
    "    tgFile.write(os.path.join(output_tg_dir, os.path.basename(audioFile).replace('.wav', '.TextGrid')))\n"
   ]
  },
  {
   "cell_type": "code",
   "execution_count": null,
   "metadata": {},
   "outputs": [],
   "source": []
  }
 ],
 "metadata": {
  "kernelspec": {
   "display_name": "virenv-wav2vec2",
   "language": "python",
   "name": "python3"
  },
  "language_info": {
   "codemirror_mode": {
    "name": "ipython",
    "version": 3
   },
   "file_extension": ".py",
   "mimetype": "text/x-python",
   "name": "python",
   "nbconvert_exporter": "python",
   "pygments_lexer": "ipython3",
   "version": "3.8.10"
  }
 },
 "nbformat": 4,
 "nbformat_minor": 2
}
